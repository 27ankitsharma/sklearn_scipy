{
 "metadata": {
  "name": "05_applications"
 },
 "nbformat": 3,
 "nbformat_minor": 0,
 "worksheets": [
  {
   "cells": [
    {
     "cell_type": "heading",
     "level": 1,
     "metadata": {},
     "source": [
      "Examples from Text Mining"
     ]
    },
    {
     "cell_type": "code",
     "collapsed": false,
     "input": [],
     "language": "python",
     "metadata": {},
     "outputs": []
    },
    {
     "cell_type": "heading",
     "level": 1,
     "metadata": {},
     "source": [
      "Examples from Image Processing"
     ]
    },
    {
     "cell_type": "code",
     "collapsed": false,
     "input": [
      "# Adapted from http://scikit-learn.org/dev/auto_examples/applications/face_recognition.html\n",
      "#from sklearn import cross_val, datasets, decomposition, svm\n",
      "\n",
      "#lfw_people = datasets.fetch_lfw_people(min_faces_per_person=70, resize=0.4)"
     ],
     "language": "python",
     "metadata": {},
     "outputs": []
    },
    {
     "cell_type": "code",
     "collapsed": false,
     "input": [
      "perm = np.random.permutation(lfw_people.target.size)\n",
      "lfw_people.data = lfw_people.data[perm]\n",
      "lfw_people.target = lfw_people.target[perm]\n",
      "faces = np.reshape(lfw_people.data, (lfw_people.target.shape[0], -1))\n",
      "train, test = iter(cross_val.StratifiedKFold(lfw_people.target, k=4)).next()\n",
      "X_train, X_test = faces[train], faces[test]\n",
      "y_train, y_test = lfw_people.target[train], lfw_people.target[test]\n",
      "\n",
      "# ..\n",
      "# .. dimension reduction ..\n",
      "pca = decomposition.RandomizedPCA(n_components=150, whiten=True)\n",
      "pca.fit(X_train)\n",
      "X_train_pca = pca.transform(X_train)\n",
      "X_test_pca = pca.transform(X_test)\n",
      "\n",
      "# ..\n",
      "# .. classification ..\n",
      "clf = svm.SVC(C=5., gamma=0.001)\n",
      "clf.fit(X_train_pca, y_train)\n",
      "\n",
      "# ..\n",
      "# .. predict on new images ..\n",
      "for i in range(10):\n",
      "    print lfw_people.target_names[clf.predict(X_test_pca[i])[0]]\n",
      "    _ = pl.imshow(X_test[i].reshape(50, 37), cmap=pl.cm.gray)\n",
      "    _ = raw_input()"
     ],
     "language": "python",
     "metadata": {},
     "outputs": []
    }
   ],
   "metadata": {}
  }
 ]
}