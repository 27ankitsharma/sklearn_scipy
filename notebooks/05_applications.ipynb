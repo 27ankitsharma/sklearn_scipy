{
 "metadata": {
  "name": "05_applications"
 },
 "nbformat": 3,
 "nbformat_minor": 0,
 "worksheets": [
  {
   "cells": [
    {
     "cell_type": "heading",
     "level": 1,
     "metadata": {},
     "source": [
      "Examples from Text Mining"
     ]
    },
    {
     "cell_type": "code",
     "collapsed": false,
     "input": [
      "%pylab inline"
     ],
     "language": "python",
     "metadata": {},
     "outputs": []
    },
    {
     "cell_type": "heading",
     "level": 1,
     "metadata": {},
     "source": [
      "Examples from Image Processing"
     ]
    },
    {
     "cell_type": "markdown",
     "metadata": {},
     "source": [
      "Here we'll take a look at a simple facial recognition example.\n",
      "This uses a dataset available within scikit-learn consisting of a\n",
      "subset of the [Labeled Faces in the Wild](http://vis-www.cs.umass.edu/lfw/)\n",
      "data:"
     ]
    },
    {
     "cell_type": "code",
     "collapsed": false,
     "input": [
      "from sklearn import datasets\n",
      "lfw_people = datasets.fetch_lfw_people(min_faces_per_person=70, resize=0.4)\n",
      "lfw_people.data.shape"
     ],
     "language": "python",
     "metadata": {},
     "outputs": []
    },
    {
     "cell_type": "code",
     "collapsed": false,
     "input": [
      "fig = plt.figure(figsize=(8, 6))\n",
      "# plot several images\n",
      "for i in range(15):\n",
      "    ax = fig.add_subplot(3, 5, i + 1, xticks=[], yticks=[])\n",
      "    ax.imshow(lfw_people.images[i], cmap=plt.cm.bone)"
     ],
     "language": "python",
     "metadata": {},
     "outputs": []
    },
    {
     "cell_type": "markdown",
     "metadata": {},
     "source": [
      "We're going to perform a Support Vector classification of the images.  We'll\n",
      "do a typical train-test split on the images to make this happen:"
     ]
    },
    {
     "cell_type": "code",
     "collapsed": false,
     "input": [
      "from sklearn.cross_validation import train_test_split\n",
      "X_train, X_test, y_train, y_test = train_test_split(lfw_people.data, lfw_people.target, random_state=0)\n",
      "\n",
      "print X_train.shape, X_test.shape"
     ],
     "language": "python",
     "metadata": {},
     "outputs": []
    },
    {
     "cell_type": "markdown",
     "metadata": {},
     "source": [
      "1850 dimensions is a lot for SVM.  We can use PCA to reduce these 1850 features to a manageable\n",
      "size, while maintaining most of the information in the dataset.  Here it is useful to use a variant\n",
      "of PCA called ``RandomizedPCA``, which is an approximation of PCA that can be much faster for large\n",
      "datasets.  The interface is the same as the normal PCA we saw earlier:"
     ]
    },
    {
     "cell_type": "code",
     "collapsed": false,
     "input": [
      "from sklearn import decomposition\n",
      "pca = decomposition.RandomizedPCA(n_components=150, whiten=True)\n",
      "pca.fit(X_train)\n",
      "X_train_pca = pca.transform(X_train)\n",
      "X_test_pca = pca.transform(X_test)"
     ],
     "language": "python",
     "metadata": {},
     "outputs": []
    },
    {
     "cell_type": "code",
     "collapsed": false,
     "input": [
      "print X_train_pca.shape"
     ],
     "language": "python",
     "metadata": {},
     "outputs": []
    },
    {
     "cell_type": "markdown",
     "metadata": {},
     "source": [
      "Now we'll perform support-vector-machine classification on this reduced dataset:"
     ]
    },
    {
     "cell_type": "code",
     "collapsed": false,
     "input": [
      "from sklearn import svm\n",
      "clf = svm.SVC(C=5., gamma=0.001)\n",
      "clf.fit(X_train_pca, y_train)"
     ],
     "language": "python",
     "metadata": {},
     "outputs": []
    },
    {
     "cell_type": "markdown",
     "metadata": {},
     "source": [
      "Finally, we can evaluate how well this classification did.  First, we might plot a\n",
      "few of the test-cases with the labels learned from the training set:"
     ]
    },
    {
     "cell_type": "code",
     "collapsed": false,
     "input": [
      "fig = plt.figure(figsize=(8, 6))\n",
      "for i in range(15):\n",
      "    ax = fig.add_subplot(3, 5, i + 1, xticks=[], yticks=[])\n",
      "    ax.imshow(X_test[i].reshape((50, 37)), cmap=plt.cm.bone)\n",
      "    y_pred = clf.predict(X_test_pca[i])[0]\n",
      "    color = 'black' if y_pred == y_test[i] else 'red'\n",
      "    ax.set_title(lfw_people.target_names[y_pred], fontsize='small', color=color)"
     ],
     "language": "python",
     "metadata": {},
     "outputs": []
    },
    {
     "cell_type": "markdown",
     "metadata": {},
     "source": [
      "The classifier is correct on 14 of these 15 images -- pretty impressive given\n",
      "the simplicity of the learning model!\n",
      "\n",
      "From 150 features derived from the pixel-level data, the\n",
      "algorithm seems to do well in identifying the people in the image.  We can\n",
      "quantify this effectiveness using one of several measures from the ``sklearn.metrics``\n",
      "module.  First we can do the classification report, which shows the precision,\n",
      "recall and other measures of the \"goodness\" of the classification:"
     ]
    },
    {
     "cell_type": "code",
     "collapsed": false,
     "input": [
      "from sklearn import metrics\n",
      "y_pred = clf.predict(X_test_pca)\n",
      "print(metrics.classification_report(y_test, y_pred, target_names=lfw_people.target_names))"
     ],
     "language": "python",
     "metadata": {},
     "outputs": []
    },
    {
     "cell_type": "markdown",
     "metadata": {},
     "source": [
      "Another interesting metric is the *confusion matrix*, which indicates how often\n",
      "any two items are mixed-up.  The confusion matrix of a perfect classifier\n",
      "would only have nonzero entries on the diagonal, with zeros on the off-diagonal."
     ]
    },
    {
     "cell_type": "code",
     "collapsed": false,
     "input": [
      "print(metrics.confusion_matrix(y_test, y_pred))"
     ],
     "language": "python",
     "metadata": {},
     "outputs": []
    },
    {
     "cell_type": "code",
     "collapsed": false,
     "input": [],
     "language": "python",
     "metadata": {},
     "outputs": []
    }
   ],
   "metadata": {}
  }
 ]
}