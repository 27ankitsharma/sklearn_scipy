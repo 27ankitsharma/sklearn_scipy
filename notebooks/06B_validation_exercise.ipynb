{
 "metadata": {
  "name": "06B_validation_exercise"
 },
 "nbformat": 3,
 "nbformat_minor": 0,
 "worksheets": [
  {
   "cells": [
    {
     "cell_type": "heading",
     "level": 1,
     "metadata": {},
     "source": [
      "Exercise: Cross Validation and Model Selection"
     ]
    },
    {
     "cell_type": "code",
     "collapsed": false,
     "input": [
      "%pylab inline"
     ],
     "language": "python",
     "metadata": {},
     "outputs": []
    },
    {
     "cell_type": "code",
     "collapsed": false,
     "input": [
      "from sklearn.datasets import load_diabetes\n",
      "data = load_diabetes()\n",
      "X, y = data.data, data.target\n",
      "print X.shape"
     ],
     "language": "python",
     "metadata": {},
     "outputs": []
    },
    {
     "cell_type": "code",
     "collapsed": false,
     "input": [
      "from sklearn.linear_model import Ridge, Lasso\n",
      "from sklearn.cross_validation import cross_val_score\n",
      "\n",
      "alphas = np.logspace(-4, 0, 20)\n",
      "\n",
      "# plot the mean cross-validation score for a Ridge estimator and a Lasso estimator\n",
      "# as a function of alpha.  Which is more difficult to tune?\n",
      "\n"
     ],
     "language": "python",
     "metadata": {},
     "outputs": []
    },
    {
     "cell_type": "code",
     "collapsed": false,
     "input": [
      "clf = Lasso(alpha=1.0).fit(X, y)\n",
      "clf.sparse_coef_.toarray()"
     ],
     "language": "python",
     "metadata": {},
     "outputs": []
    },
    {
     "cell_type": "code",
     "collapsed": false,
     "input": [
      "from sklearn.linear_model import Lasso, LassoCV, Ridge, RidgeCV\n",
      "from sklearn.cross_validation import cross_val_score"
     ],
     "language": "python",
     "metadata": {},
     "outputs": []
    },
    {
     "cell_type": "code",
     "collapsed": false,
     "input": [
      "alphas = 10 ** np.linspace(-3, -1, 20)\n",
      "scores_L = [cross_val_score(Lasso(alpha), X, y)\n",
      "            for alpha in alphas]\n",
      "scores_R = [cross_val_score(Ridge(alpha), X, y)\n",
      "            for alpha in alphas]\n",
      "plt.plot(alphas, np.mean(scores_R, 1), label=\"Ridge\")\n",
      "plt.plot(alphas, np.mean(scores_L, 1), label=\"Lasso\")\n",
      "plt.xlabel('alpha')\n",
      "plt.ylabel('score')\n",
      "plt.legend()"
     ],
     "language": "python",
     "metadata": {},
     "outputs": []
    },
    {
     "cell_type": "code",
     "collapsed": false,
     "input": [
      "from sklearn.linear_model import LassoCV"
     ],
     "language": "python",
     "metadata": {},
     "outputs": []
    },
    {
     "cell_type": "code",
     "collapsed": false,
     "input": [
      "clf = LassoCV(alphas=alphas, cv=3).fit(X, y)\n",
      "print \"Lasso:\", clf.alpha_\n",
      "clf = RidgeCV(alphas=alphas, cv=3).fit(X, y)\n",
      "print \"Ridge:\", clf.alpha_"
     ],
     "language": "python",
     "metadata": {},
     "outputs": []
    },
    {
     "cell_type": "code",
     "collapsed": false,
     "input": [
      "RidgeCV?"
     ],
     "language": "python",
     "metadata": {},
     "outputs": []
    },
    {
     "cell_type": "code",
     "collapsed": false,
     "input": [],
     "language": "python",
     "metadata": {},
     "outputs": []
    }
   ],
   "metadata": {}
  }
 ]
}