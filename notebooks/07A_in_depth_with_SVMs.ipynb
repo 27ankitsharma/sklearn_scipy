{
 "metadata": {
  "name": "07A_in_depth_with_SVMs"
 },
 "nbformat": 3,
 "nbformat_minor": 0,
 "worksheets": [
  {
   "cells": [
    {
     "cell_type": "code",
     "collapsed": false,
     "input": [],
     "language": "python",
     "metadata": {},
     "outputs": []
    }
   ],
   "metadata": {}
  }
 ]
}