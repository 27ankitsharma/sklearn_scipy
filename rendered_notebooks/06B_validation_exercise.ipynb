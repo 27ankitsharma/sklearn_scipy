{
 "metadata": {
  "name": "06B_validation_exercise"
 },
 "nbformat": 3,
 "nbformat_minor": 0,
 "worksheets": [
  {
   "cells": [
    {
     "cell_type": "heading",
     "level": 1,
     "metadata": {},
     "source": [
      "Exercise: Cross Validation and Model Selection"
     ]
    },
    {
     "cell_type": "code",
     "collapsed": false,
     "input": [
      "%pylab inline"
     ],
     "language": "python",
     "metadata": {},
     "outputs": [
      {
       "output_type": "stream",
       "stream": "stdout",
       "text": [
        "\n",
        "Welcome to pylab, a matplotlib-based Python environment [backend: module://IPython.zmq.pylab.backend_inline].\n",
        "For more information, type 'help(pylab)'.\n"
       ]
      }
     ],
     "prompt_number": 0
    },
    {
     "cell_type": "code",
     "collapsed": false,
     "input": [
      "from sklearn.datasets import load_diabetes\n",
      "data = load_diabetes()\n",
      "X, y = data.data, data.target\n",
      "print X.shape"
     ],
     "language": "python",
     "metadata": {},
     "outputs": [
      {
       "output_type": "stream",
       "stream": "stdout",
       "text": [
        "(442, 10)\n"
       ]
      }
     ],
     "prompt_number": 1
    },
    {
     "cell_type": "code",
     "collapsed": false,
     "input": [
      "from sklearn.linear_model import Ridge, Lasso\n",
      "from sklearn.cross_validation import cross_val_score\n",
      "\n",
      "alphas = np.logspace(-4, 0, 20)\n",
      "\n",
      "# plot the mean cross-validation score for a Ridge estimator and a Lasso estimator\n",
      "# as a function of alpha.  Which is more difficult to tune?\n",
      "\n"
     ],
     "language": "python",
     "metadata": {},
     "outputs": [
      {
       "output_type": "stream",
       "stream": "stderr",
       "text": [
        "/usr/local/lib/python2.7/site-packages/scikits/__init__.py:1: UserWarning: Module argparse was already imported from /usr/local/Cellar/python/2.7.5/Frameworks/Python.framework/Versions/2.7/lib/python2.7/argparse.pyc, but /usr/local/lib/python2.7/site-packages is being added to sys.path\n",
        "  __import__('pkg_resources').declare_namespace(__name__)\n"
       ]
      }
     ],
     "prompt_number": 2
    },
    {
     "cell_type": "code",
     "collapsed": false,
     "input": [
      "clf = Lasso(alpha=1.0).fit(X, y)\n",
      "clf.sparse_coef_.toarray()"
     ],
     "language": "python",
     "metadata": {},
     "outputs": [
      {
       "output_type": "pyout",
       "prompt_number": 5,
       "text": [
        "array([[   0.        ,    0.        ,  367.70185207,    6.30190419,\n",
        "           0.        ,    0.        ,    0.        ,    0.        ,\n",
        "         307.6057    ,    0.        ]])"
       ]
      }
     ],
     "prompt_number": 3
    },
    {
     "cell_type": "code",
     "collapsed": false,
     "input": [
      "from sklearn.linear_model import Lasso, LassoCV, Ridge, RidgeCV\n",
      "from sklearn.cross_validation import cross_val_score"
     ],
     "language": "python",
     "metadata": {},
     "outputs": [],
     "prompt_number": 4
    },
    {
     "cell_type": "code",
     "collapsed": false,
     "input": [
      "alphas = 10 ** np.linspace(-3, -1, 20)\n",
      "scores_L = [cross_val_score(Lasso(alpha), X, y)\n",
      "            for alpha in alphas]\n",
      "scores_R = [cross_val_score(Ridge(alpha), X, y)\n",
      "            for alpha in alphas]\n",
      "plt.plot(alphas, np.mean(scores_R, 1), label=\"Ridge\")\n",
      "plt.plot(alphas, np.mean(scores_L, 1), label=\"Lasso\")\n",
      "plt.xlabel('alpha')\n",
      "plt.ylabel('score')\n",
      "plt.legend()"
     ],
     "language": "python",
     "metadata": {},
     "outputs": [
      {
       "output_type": "pyout",
       "prompt_number": 7,
       "text": [
        "<matplotlib.legend.Legend at 0x1106df790>"
       ]
      },
      {
       "output_type": "display_data",
       "png": "[encoded data removed]"
      }
     ],
     "prompt_number": 5
    },
    {
     "cell_type": "code",
     "collapsed": false,
     "input": [
      "from sklearn.linear_model import LassoCV"
     ],
     "language": "python",
     "metadata": {},
     "outputs": [],
     "prompt_number": 6
    },
    {
     "cell_type": "code",
     "collapsed": false,
     "input": [
      "clf = LassoCV(alphas=alphas, cv=3).fit(X, y)\n",
      "print \"Lasso:\", clf.alpha_\n",
      "clf = RidgeCV(alphas=alphas, cv=3).fit(X, y)\n",
      "print \"Ridge:\", clf.alpha_"
     ],
     "language": "python",
     "metadata": {},
     "outputs": [
      {
       "output_type": "stream",
       "stream": "stdout",
       "text": [
        "Lasso: 0.0143844988829\n",
        "Ridge: 0.0615848211066\n"
       ]
      }
     ],
     "prompt_number": 7
    },
    {
     "cell_type": "code",
     "collapsed": false,
     "input": [
      "RidgeCV?"
     ],
     "language": "python",
     "metadata": {},
     "outputs": [],
     "prompt_number": 8
    },
    {
     "cell_type": "code",
     "collapsed": false,
     "input": [],
     "language": "python",
     "metadata": {},
     "outputs": [],
     "prompt_number": 9
    }
   ],
   "metadata": {}
  }
 ]
}